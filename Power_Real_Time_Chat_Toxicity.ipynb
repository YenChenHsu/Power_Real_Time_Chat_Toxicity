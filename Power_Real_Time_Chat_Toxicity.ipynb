{
 "cells": [
  {
   "cell_type": "markdown",
   "metadata": {},
   "source": [
    "# About the data\n",
    "\n",
    "## The Toxicity Dataset\n",
    "Provided by Surge AI, the world's most powerful NLP data labeling platform and workforce.\\\n",
    "This is a dataset contains 500 toxic and 500 non-toxic comments from a variety of popular social media platforms. The toxicity text are labled with \"toxic\" or \"not toxic\", we will utilize the labeled data to train our NLP model with John Snow Lab for toxic behavior detection.\n",
    "\n",
    "Source: https://github.com/surge-ai/toxicity/blob/main/toxicity_en.csv\n",
    "\n",
    "\n",
    "## Dota 2 Dataset \n",
    "Dota 2 is a multiplayer online battle arena (MOBA) video game in which two teams of five players compete to destroy a large structure defended by the opposing team known as the \"Ancient\" whilst defending their own. \n",
    "\n",
    "This dataset is origined from Kaggle contest - Dota 2 Matches, containing 50000 ranked ladder matches from the Dota 2 data dump created by Opendota. We would using this dataset to demostrate Databricks Delta Lake storage and apply our NLP classification model to predict 144k game chat toxicity classification. \n",
    "\n",
    "Source: https://www.kaggle.com/datasets/devinanzelmo/dota-2-matches"
   ]
  },
  {
   "cell_type": "markdown",
   "metadata": {
    "application/vnd.databricks.v1+cell": {
     "cellMetadata": {},
     "inputWidgets": {},
     "nuid": "bd9f4325-ffe8-4d2f-ac45-9539b81bf877",
     "showTitle": false,
     "title": ""
    }
   },
   "source": [
    "## Environment Configuration\n",
    "\n",
    "To run this notebook, make sure the cluster supports Spark NLP. We are using below config version in the cluster (as for 2023.12)\n",
    "\n",
    "- **Databrick Runtime Version:** 14.2 ML (includes Apache Spark 3.5.0, Scala 2.12)\n",
    "\n",
    "- **Additional Spark Config:** \\\n",
    "  spark.kryoserializer.buffer.max 2000M\\\n",
    "  spark.serializer org.apache.spark.serializer.KryoSerializer\n",
    "\n",
    "- **Install Libraries:** \\\n",
    "  PyPi: spark-nlp==5.1.4 \\\n",
    "  Maven Coordinates: com.johnsnowlabs.nlp:spark-nlp_2.12:5.1.4"
   ]
  },
  {
   "cell_type": "code",
   "execution_count": 0,
   "metadata": {
    "application/vnd.databricks.v1+cell": {
     "cellMetadata": {
      "byteLimit": 2048000,
      "rowLimit": 10000
     },
     "inputWidgets": {},
     "nuid": "91fff1bb-886d-4b5d-a7ec-97a17244f52d",
     "showTitle": false,
     "title": ""
    }
   },
   "outputs": [
    {
     "name": "stdout",
     "output_type": "stream",
     "text": [
      "Warning::Spark Session already created, some configs may not take.\n",
      "Spark NLP version 5.1.4\n",
      "Apache Spark version: 3.5.0\n"
     ]
    },
    {
     "data": {
      "text/html": [
       "\n",
       "            <div>\n",
       "                <p><b>SparkSession - hive</b></p>\n",
       "                \n",
       "        <div>\n",
       "            <p><b>SparkContext</b></p>\n",
       "\n",
       "            <p><a href=\"/?o=296359184142930#setting/sparkui/1127-030140-2yvfuyox/driver-8880608158842767629\">Spark UI</a></p>\n",
       "\n",
       "            <dl>\n",
       "              <dt>Version</dt>\n",
       "                <dd><code>v3.5.0</code></dd>\n",
       "              <dt>Master</dt>\n",
       "                <dd><code>local[*, 4]</code></dd>\n",
       "              <dt>AppName</dt>\n",
       "                <dd><code>Databricks Shell</code></dd>\n",
       "            </dl>\n",
       "        </div>\n",
       "        \n",
       "            </div>\n",
       "        "
      ],
      "text/plain": [
       "<pyspark.sql.session.SparkSession at 0x7f037e509c90>"
      ]
     },
     "execution_count": 1,
     "metadata": {},
     "output_type": "execute_result"
    }
   ],
   "source": [
    "import sparknlp\n",
    "\n",
    "from sparknlp.base import *\n",
    "from sparknlp.annotator import *\n",
    "from pyspark.ml import Pipeline\n",
    "import pandas as pd\n",
    "import os\n",
    "\n",
    "spark = sparknlp.start(gpu = True)# for GPU training >> sparknlp.start(gpu = True)\n",
    "\n",
    "print(\"Spark NLP version\", sparknlp.version())\n",
    "print(\"Apache Spark version:\", spark.version)\n",
    "\n",
    "spark"
   ]
  },
  {
   "cell_type": "markdown",
   "metadata": {},
   "source": [
    "## Load Surge AI Toxicity Data\n"
   ]
  },
  {
   "cell_type": "code",
   "execution_count": 0,
   "metadata": {
    "application/vnd.databricks.v1+cell": {
     "cellMetadata": {
      "byteLimit": 2048000,
      "rowLimit": 10000
     },
     "inputWidgets": {},
     "nuid": "dcef5abc-8ea3-4743-a25a-62918c451ee6",
     "showTitle": false,
     "title": ""
    }
   },
   "outputs": [
    {
     "name": "stdout",
     "output_type": "stream",
     "text": [
      "--2023-11-30 23:58:53--  https://raw.githubusercontent.com/surge-ai/toxicity/main/toxicity_en.csv\r\n",
      "Resolving raw.githubusercontent.com (raw.githubusercontent.com)... 185.199.109.133, 185.199.110.133, 185.199.111.133, ...\r\n",
      "Connecting to raw.githubusercontent.com (raw.githubusercontent.com)|185.199.109.133|:443... connected.\r\n",
      "HTTP request sent, awaiting response... 200 OK\r\n",
      "Length: 147594 (144K) [text/plain]\r\n",
      "Saving to: ‘toxicity_en.csv.1’\r\n",
      "\r\n",
      "\r",
      "toxicity_en.csv.1     0%[                    ]       0  --.-KB/s               \r",
      "toxicity_en.csv.1   100%[===================>] 144.13K  --.-KB/s    in 0.01s   \r\n",
      "\r\n",
      "2023-11-30 23:58:54 (12.4 MB/s) - ‘toxicity_en.csv.1’ saved [147594/147594]\r\n",
      "\r\n"
     ]
    }
   ],
   "source": [
    "!wget https://raw.githubusercontent.com/surge-ai/toxicity/main/toxicity_en.csv"
   ]
  },
  {
   "cell_type": "code",
   "execution_count": 0,
   "metadata": {
    "application/vnd.databricks.v1+cell": {
     "cellMetadata": {
      "byteLimit": 2048000,
      "rowLimit": 10000
     },
     "inputWidgets": {},
     "nuid": "aed2e936-c3f6-4928-83b2-a561f29dbfba",
     "showTitle": false,
     "title": ""
    }
   },
   "outputs": [
    {
     "name": "stdout",
     "output_type": "stream",
     "text": [
      "-rwxrwxrwx 1 root root 147594 Nov 27 03:43 toxicity_en.csv\r\n"
     ]
    }
   ],
   "source": [
    "!ls -l toxicity_en.csv"
   ]
  },
  {
   "cell_type": "code",
   "execution_count": 0,
   "metadata": {
    "application/vnd.databricks.v1+cell": {
     "cellMetadata": {
      "byteLimit": 2048000,
      "rowLimit": 10000
     },
     "inputWidgets": {},
     "nuid": "150b3d88-8e5f-49bc-b067-ac938ea91968",
     "showTitle": false,
     "title": ""
    }
   },
   "outputs": [
    {
     "name": "stdout",
     "output_type": "stream",
     "text": [
      "text,is_toxic\r",
      "\r\n",
      "\"Elon Musk is a piece of shit, greedy capitalist who exploits workers, and offers nothing of real benefit to the world.\r\n",
      " All he’s done is make a name for himself on the backs of other people, using dirty money from his family’s emerald mine they acquired during apartheid.\r\n",
      " I don’t care that he’s autistic. He thinks we should be cured with his company’s AI chip. \r\n",
      " He is not a representation of our community. Don’t celebrate him on this page.\",Toxic\r",
      "\r\n",
      "The senile credit card shrill from Delaware needs to resign!!,Toxic\r",
      "\r\n",
      "\"He does that a lot -- makes everyone look good but him...I guess it's also probably the Dems and the Media that force him to compulsively tweet abject bullshit like a lying bitch. They're tricky, them libs.\",Toxic\r",
      "\r\n",
      "F*ck Lizzo,Toxic\r",
      "\r\n",
      "Epstein and trump were best buds!!! Pedophiles who play together!!,Toxic\r",
      "\r\n",
      "\"WHY IN THE HELL\r\n"
     ]
    }
   ],
   "source": [
    "!head toxicity_en.csv"
   ]
  },
  {
   "cell_type": "code",
   "execution_count": 0,
   "metadata": {
    "application/vnd.databricks.v1+cell": {
     "cellMetadata": {
      "byteLimit": 2048000,
      "rowLimit": 10000
     },
     "inputWidgets": {},
     "nuid": "c728537f-0d0f-4644-babc-2c9f413224f2",
     "showTitle": false,
     "title": ""
    }
   },
   "outputs": [],
   "source": [
    "from pyspark.sql.types import StructType, StructField, StringType, IntegerType\n",
    "from pyspark.sql.functions import col, when\n",
    "\n",
    "# Define the schema\n",
    "schema = StructType([\n",
    "    StructField(\"text\", StringType(), True),\n",
    "    StructField(\"is_toxic\", StringType(), True)  # Initially read as string to apply the transformation below\n",
    "])"
   ]
  },
  {
   "cell_type": "code",
   "execution_count": 0,
   "metadata": {
    "application/vnd.databricks.v1+cell": {
     "cellMetadata": {
      "byteLimit": 2048000,
      "rowLimit": 10000
     },
     "inputWidgets": {},
     "nuid": "0be61e3b-f83e-4dd1-9154-e0d4184754c7",
     "showTitle": false,
     "title": ""
    }
   },
   "outputs": [],
   "source": [
    "data = spark.read.csv(\"file:/Workspace/Group 13/toxicity_en.csv\", schema=schema, header=True)"
   ]
  },
  {
   "cell_type": "code",
   "execution_count": 0,
   "metadata": {
    "application/vnd.databricks.v1+cell": {
     "cellMetadata": {
      "byteLimit": 2048000,
      "rowLimit": 10000
     },
     "inputWidgets": {},
     "nuid": "98cc3a2f-5490-46bf-9810-0f15e28d629b",
     "showTitle": false,
     "title": ""
    }
   },
   "outputs": [],
   "source": [
    "data = data.withColumn(\"is_toxic\", when(col(\"is_toxic\") == \"Toxic\", 1).otherwise(0))\n",
    "data = data.withColumn(\"is_toxic\", col(\"is_toxic\").cast(IntegerType()))"
   ]
  },
  {
   "cell_type": "code",
   "execution_count": 0,
   "metadata": {
    "application/vnd.databricks.v1+cell": {
     "cellMetadata": {
      "byteLimit": 2048000,
      "rowLimit": 10000
     },
     "inputWidgets": {},
     "nuid": "719bfa08-3671-4cbd-9d1e-702876c6baad",
     "showTitle": false,
     "title": ""
    }
   },
   "outputs": [
    {
     "name": "stdout",
     "output_type": "stream",
     "text": [
      "+--------------------+--------+\n",
      "|                text|is_toxic|\n",
      "+--------------------+--------+\n",
      "|Elon Musk is a pi...|       0|\n",
      "| All he’s done is...|       0|\n",
      "| I don’t care tha...|       0|\n",
      "| He is not a repr...|       1|\n",
      "|The senile credit...|       1|\n",
      "+--------------------+--------+\n",
      "only showing top 5 rows\n",
      "\n"
     ]
    }
   ],
   "source": [
    "data.show(5)"
   ]
  },
  {
   "cell_type": "code",
   "execution_count": 0,
   "metadata": {
    "application/vnd.databricks.v1+cell": {
     "cellMetadata": {
      "byteLimit": 2048000,
      "rowLimit": 10000
     },
     "inputWidgets": {},
     "nuid": "ff8f2f3d-a949-4018-ba03-4d549a5ce47b",
     "showTitle": false,
     "title": ""
    }
   },
   "outputs": [],
   "source": [
    "train_df, test_df = data.randomSplit([0.7, 0.3], seed=42)"
   ]
  },
  {
   "cell_type": "code",
   "execution_count": 0,
   "metadata": {
    "application/vnd.databricks.v1+cell": {
     "cellMetadata": {
      "byteLimit": 2048000,
      "rowLimit": 10000
     },
     "inputWidgets": {},
     "nuid": "7500599c-66e6-4913-b50d-797b0a81c758",
     "showTitle": false,
     "title": ""
    }
   },
   "outputs": [
    {
     "data": {
      "text/plain": [
       "900"
      ]
     },
     "execution_count": 14,
     "metadata": {},
     "output_type": "execute_result"
    }
   ],
   "source": [
    "train_df.count()"
   ]
  },
  {
   "cell_type": "code",
   "execution_count": 0,
   "metadata": {
    "application/vnd.databricks.v1+cell": {
     "cellMetadata": {
      "byteLimit": 2048000,
      "rowLimit": 10000
     },
     "inputWidgets": {},
     "nuid": "b6e7ad65-68f3-4e82-8c92-e6d2fd8743cf",
     "showTitle": false,
     "title": ""
    }
   },
   "outputs": [
    {
     "data": {
      "text/html": [
       "<style scoped>\n",
       "  .table-result-container {\n",
       "    max-height: 300px;\n",
       "    overflow: auto;\n",
       "  }\n",
       "  table, th, td {\n",
       "    border: 1px solid black;\n",
       "    border-collapse: collapse;\n",
       "  }\n",
       "  th, td {\n",
       "    padding: 5px;\n",
       "  }\n",
       "  th {\n",
       "    text-align: left;\n",
       "  }\n",
       "</style><div class='table-result-container'><table class='table-result'><thead style='background-color: white'><tr><th>text</th><th>is_toxic</th></tr></thead><tbody><tr><td>  BLAME OBAMA! IMPEACH OBAMA! REMOVE OBAMA! CRIMINALLY PROSECUTE OBAMA! IMPEACH! IMPEACH! IMPEACH! IMPEACH! IMPEACH! IMPEACH! IMPEACH! IMPEACH!\"</td><td>1</td></tr><tr><td> #BitchyMitchy\"</td><td>1</td></tr><tr><td> #LibtardLogic #wakeup #thinkforyourself #SilentNoMore #myvoicematters #silentmajority #DoNotComply #DONOTCONSENT #IDONOTCONSENT\"</td><td>1</td></tr><tr><td> #TheFecalTouch\"</td><td>1</td></tr><tr><td> #fuckdems #trump #fuckliberals #america #news #fucksocialism #fuckfeminism #fuckfeminists #donaldtrump #benshaprio #tedcruz #progun #americanpride #american #americapride #foxnews #fucktheleft #prolife #cnn #memes #politics #politicalmemes #msnbc #feminist #lgbt #fuckgays #hellyeah #fuckhilary #fuckpeta\"</td><td>1</td></tr></tbody></table></div>"
      ]
     },
     "metadata": {
      "application/vnd.databricks.v1+output": {
       "addedWidgets": {},
       "aggData": [],
       "aggError": "",
       "aggOverflow": false,
       "aggSchema": [],
       "aggSeriesLimitReached": false,
       "aggType": "",
       "arguments": {},
       "columnCustomDisplayInfos": {},
       "data": [
        [
         "  BLAME OBAMA! IMPEACH OBAMA! REMOVE OBAMA! CRIMINALLY PROSECUTE OBAMA! IMPEACH! IMPEACH! IMPEACH! IMPEACH! IMPEACH! IMPEACH! IMPEACH! IMPEACH!\"",
         1
        ],
        [
         " #BitchyMitchy\"",
         1
        ],
        [
         " #LibtardLogic #wakeup #thinkforyourself #SilentNoMore #myvoicematters #silentmajority #DoNotComply #DONOTCONSENT #IDONOTCONSENT\"",
         1
        ],
        [
         " #TheFecalTouch\"",
         1
        ],
        [
         " #fuckdems #trump #fuckliberals #america #news #fucksocialism #fuckfeminism #fuckfeminists #donaldtrump #benshaprio #tedcruz #progun #americanpride #american #americapride #foxnews #fucktheleft #prolife #cnn #memes #politics #politicalmemes #msnbc #feminist #lgbt #fuckgays #hellyeah #fuckhilary #fuckpeta\"",
         1
        ]
       ],
       "datasetInfos": [],
       "dbfsResultPath": null,
       "isJsonSchema": true,
       "metadata": {},
       "overflow": false,
       "plotOptions": {
        "customPlotOptions": {},
        "displayType": "table",
        "pivotAggregation": null,
        "pivotColumns": null,
        "xColumns": null,
        "yColumns": null
       },
       "removedWidgets": [],
       "schema": [
        {
         "metadata": "{}",
         "name": "text",
         "type": "\"string\""
        },
        {
         "metadata": "{}",
         "name": "is_toxic",
         "type": "\"integer\""
        }
       ],
       "type": "table"
      }
     },
     "output_type": "display_data"
    }
   ],
   "source": [
    "display(train_df.limit(10).filter((col('is_toxic')) == 1))"
   ]
  },
  {
   "cell_type": "markdown",
   "metadata": {},
   "source": [
    "# Build NLP Pipeline -- Deep Learning Classifer with Word Embeddings and Text Preprocessing\n",
    "\n",
    "1. Document Assembler: This is the first stage where raw text is converted to a structured format for NLP task.\n",
    "2. Tokenizer: Takes the output from the Document Assembler and breaks the text into individual tokens and words\n",
    "\n",
    "3. Normalizer: Following the tokenizer, the normalizer standardizes the tokens by removing the punctuation and convert the characters to lower cases (depend on configuration)\n",
    "\n",
    "4. StopWords Cleaner: Removes common words (such as \"and\", \"the\"...) that carry little meaning.\n",
    "\n",
    "5. Lemmatizer: Process the cleaned tockens to reduce to their base or root forms, here, we are using lemma_antbnc pretained model.\n",
    "\n",
    "6. Word Embeddings(GloVe): We use GloVe (Global Vectors for Word Representation) model to  take the lemmatized tokens and converts them into numeric vector representations (embeddings), which capture semantic meaning of words.\n",
    "\n",
    "7. Sentence Embeddings: Aggregate the word embeddings and form sentence-level embeddings, the method of aggregation is defined by \"pooling strategy\" and we set it as \"average\".\n",
    "\n",
    "8. ClassifiedDL: For the last step, we used a deep learning classifier to perform the classification task to classify whether the text is toxic or not, using epoch=3 and output logs enabled\""
   ]
  },
  {
   "cell_type": "code",
   "execution_count": 0,
   "metadata": {
    "application/vnd.databricks.v1+cell": {
     "cellMetadata": {
      "byteLimit": 2048000,
      "rowLimit": 10000
     },
     "inputWidgets": {},
     "nuid": "31c0bceb-bd37-46a1-9923-8a255893f60c",
     "showTitle": false,
     "title": ""
    }
   },
   "outputs": [],
   "source": [
    "import sparknlp\n",
    "from sparknlp.annotator import *\n",
    "from sparknlp.common import *\n",
    "from sparknlp.base import *\n",
    "from pyspark.ml import Pipeline\n",
    "from pyspark.mllib.evaluation import MultilabelMetrics\n",
    "from pyspark.sql.functions import lit,when,col,array,array_contains,array_remove,regexp_replace,size,when\n",
    "from pyspark.sql.types import ArrayType,DoubleType,StringType\n",
    "from pyspark.ml.evaluation import MultilabelClassificationEvaluator\n",
    "import mlflow\n",
    "import mlflow.spark\n",
    "from mlflow.tracking import MlflowClient\n",
    "from sparknlp.base import DocumentAssembler\n",
    "from sparknlp.annotator import UniversalSentenceEncoder\n",
    "import sparknlp\n",
    "from sparknlp.base import DocumentAssembler, Finisher\n",
    "from sparknlp.annotator import UniversalSentenceEncoder\n",
    "from pyspark.ml import Pipeline"
   ]
  },
  {
   "cell_type": "code",
   "execution_count": 0,
   "metadata": {
    "application/vnd.databricks.v1+cell": {
     "cellMetadata": {
      "byteLimit": 2048000,
      "rowLimit": 10000
     },
     "inputWidgets": {},
     "nuid": "89d26263-b5a3-43c0-a23b-c32713eb16db",
     "showTitle": false,
     "title": ""
    }
   },
   "outputs": [
    {
     "name": "stdout",
     "output_type": "stream",
     "text": [
      "lemma_antbnc download started this may take some time.\n",
      "Approximate size to download 907.6 KB\n",
      "\r",
      "[ | ]\r",
      "[ / ]\r",
      "[ — ]\r",
      "[OK!]\n"
     ]
    }
   ],
   "source": [
    "document_assembler = DocumentAssembler() \\\n",
    "    .setInputCol(\"text\") \\\n",
    "    .setOutputCol(\"document\")\n",
    "\n",
    "tokenizer = Tokenizer() \\\n",
    "    .setInputCols([\"document\"]) \\\n",
    "    .setOutputCol(\"token\")\n",
    "\n",
    "normalizer = Normalizer() \\\n",
    "    .setInputCols([\"token\"]) \\\n",
    "    .setOutputCol(\"normalized\")\n",
    "\n",
    "stopwords_cleaner = StopWordsCleaner()\\\n",
    "    .setInputCols(\"normalized\")\\\n",
    "    .setOutputCol(\"cleanTokens\")\\\n",
    "    .setCaseSensitive(False)\n",
    "\n",
    "lemma = LemmatizerModel.pretrained('lemma_antbnc') \\\n",
    "    .setInputCols([\"cleanTokens\"]) \\\n",
    "    .setOutputCol(\"lemma\")"
   ]
  },
  {
   "cell_type": "code",
   "execution_count": 0,
   "metadata": {
    "application/vnd.databricks.v1+cell": {
     "cellMetadata": {
      "byteLimit": 2048000,
      "rowLimit": 10000
     },
     "inputWidgets": {},
     "nuid": "54801142-cf67-4ecd-bd78-076cebd2e54d",
     "showTitle": false,
     "title": ""
    }
   },
   "outputs": [
    {
     "name": "stdout",
     "output_type": "stream",
     "text": [
      "glove_100d download started this may take some time.\n",
      "Approximate size to download 145.3 MB\n",
      "\r",
      "[ | ]\r",
      "[ / ]\r",
      "[ — ]\r",
      "[ \\ ]\r",
      "[ | ]\r",
      "[ / ]\r",
      "[ — ]\r",
      "[ \\ ]\r",
      "[ | ]\r",
      "[ / ]\r",
      "[ — ]\r",
      "[ \\ ]\r",
      "[ | ]\r",
      "[ / ]\r",
      "[ — ]\r",
      "[ \\ ]\r",
      "[ | ]\r",
      "[OK!]\n"
     ]
    }
   ],
   "source": [
    "glove_embeddings = WordEmbeddingsModel().pretrained() \\\n",
    "    .setInputCols([\"document\",'lemma'])\\\n",
    "    .setOutputCol(\"embeddings\")\\\n",
    "    .setCaseSensitive(False)\n",
    "\n",
    "embeddingsSentence = SentenceEmbeddings() \\\n",
    "    .setInputCols([\"document\", \"embeddings\"]) \\\n",
    "    .setOutputCol(\"sentence_embeddings\") \\\n",
    "    .setPoolingStrategy(\"AVERAGE\")\n",
    "\n",
    "classsifierdl = ClassifierDLApproach()\\\n",
    "    .setInputCols([\"sentence_embeddings\"])\\\n",
    "    .setOutputCol(\"class\")\\\n",
    "    .setLabelColumn(\"is_toxic\")\\\n",
    "    .setMaxEpochs(3)\\\n",
    "    .setEnableOutputLogs(True)"
   ]
  },
  {
   "cell_type": "code",
   "execution_count": 0,
   "metadata": {
    "application/vnd.databricks.v1+cell": {
     "cellMetadata": {
      "byteLimit": 2048000,
      "rowLimit": 10000
     },
     "inputWidgets": {},
     "nuid": "babbd89d-cfe3-48ea-b814-c50b9ff2876e",
     "showTitle": false,
     "title": ""
    }
   },
   "outputs": [],
   "source": [
    "clf_pipeline = Pipeline(\n",
    "    stages=[\n",
    "        document_assembler,\n",
    "        tokenizer,\n",
    "        normalizer,\n",
    "        stopwords_cleaner,\n",
    "        lemma,\n",
    "        glove_embeddings,\n",
    "        embeddingsSentence,\n",
    "        classsifierdl])"
   ]
  },
  {
   "cell_type": "code",
   "execution_count": 0,
   "metadata": {
    "application/vnd.databricks.v1+cell": {
     "cellMetadata": {
      "byteLimit": 2048000,
      "rowLimit": 10000
     },
     "inputWidgets": {},
     "nuid": "f2cdb7a6-4ca9-44db-a2e4-47f9ee41abff",
     "showTitle": false,
     "title": ""
    }
   },
   "outputs": [],
   "source": [
    "clf_pipelineModel = clf_pipeline.fit(train_df)"
   ]
  },
  {
   "cell_type": "code",
   "execution_count": 0,
   "metadata": {
    "application/vnd.databricks.v1+cell": {
     "cellMetadata": {
      "byteLimit": 2048000,
      "rowLimit": 10000
     },
     "inputWidgets": {},
     "nuid": "ae9285b9-e9f4-4380-bd09-531bab64f5c0",
     "showTitle": false,
     "title": ""
    }
   },
   "outputs": [],
   "source": [
    "preds = clf_pipelineModel.transform(test_df)"
   ]
  },
  {
   "cell_type": "code",
   "execution_count": 0,
   "metadata": {
    "application/vnd.databricks.v1+cell": {
     "cellMetadata": {
      "byteLimit": 2048000,
      "rowLimit": 10000
     },
     "inputWidgets": {},
     "nuid": "73accfd0-1b5e-4354-8bf9-4c7ebb065720",
     "showTitle": false,
     "title": ""
    }
   },
   "outputs": [],
   "source": [
    "preds_df = preds.select('text','is_toxic','class.result').toPandas()\n",
    "preds_df['result'] = preds_df['result'].apply(lambda x : x[0])"
   ]
  },
  {
   "cell_type": "code",
   "execution_count": 0,
   "metadata": {
    "application/vnd.databricks.v1+cell": {
     "cellMetadata": {
      "byteLimit": 2048000,
      "rowLimit": 10000
     },
     "inputWidgets": {},
     "nuid": "5fa16793-635c-49ff-b014-ad437c31d4e0",
     "showTitle": false,
     "title": ""
    }
   },
   "outputs": [
    {
     "name": "stdout",
     "output_type": "stream",
     "text": [
      "              precision    recall  f1-score   support\n",
      "\n",
      "           0       0.89      0.63      0.74       208\n",
      "           1       0.55      0.84      0.66       109\n",
      "\n",
      "    accuracy                           0.71       317\n",
      "   macro avg       0.72      0.74      0.70       317\n",
      "weighted avg       0.77      0.71      0.71       317\n",
      "\n",
      "Accuracy Score: 0.7066246056782335\n"
     ]
    }
   ],
   "source": [
    "from sklearn.metrics import classification_report, accuracy_score\n",
    "preds_df['result'] = preds_df['result'].astype(int)\n",
    "accuracy = accuracy_score(preds_df['is_toxic'], preds_df['result'])\n",
    "print (classification_report(preds_df['is_toxic'], preds_df['result']))\n",
    "print(f\"Accuracy Score: {accuracy}\")"
   ]
  },
  {
   "cell_type": "markdown",
   "metadata": {
    "application/vnd.databricks.v1+cell": {
     "cellMetadata": {},
     "inputWidgets": {},
     "nuid": "7b514c5f-0d41-4d9a-898a-9151b3e98e8a",
     "showTitle": false,
     "title": ""
    }
   },
   "source": [
    "\n",
    "# Ingest Dota 2 Gaming Data Into Delta Lake\n",
    "Here, we create a database for Dota2 tables to reside in, and we will write the data out in Delta format so that the tables could be easily access and query.\n",
    "\n",
    "- Delta Lake is an open-source storage framework that enables building a Lakehouse architecture with compute engines including Spark, PrestoDB, Flink, Trino, and Hive.\n",
    "\n",
    "\n",
    "\n",
    "- Lakehouse Architecture: Data lakehouse is a new, open data management architecture that combines the flexibility, cost-efficiency, and scale of data lakes with the data management and ACID transactions of data warehouses.\n",
    "\n",
    "\n",
    "\n",
    "- Some features of Delta Lake:\n",
    "    - ACID Transactions: Ensure data integrity and read consistence.\n",
    "    - Time Travel: Access/revert to earlier versions of data for audits,rollbacks, or reproduce.\n",
    "    - Scalable Metadata: Handle petabyte-scale tables in billions of partitions and files with ease.\n",
    "   \n",
    "\n",
    "Source https://delta.io/"
   ]
  },
  {
   "cell_type": "markdown",
   "metadata": {
    "application/vnd.databricks.v1+cell": {
     "cellMetadata": {},
     "inputWidgets": {},
     "nuid": "62db04ff-5b47-42ff-b242-7cb9c73f56f2",
     "showTitle": false,
     "title": ""
    }
   },
   "source": [
    "## Create Dota 2 Database"
   ]
  },
  {
   "cell_type": "code",
   "execution_count": 0,
   "metadata": {
    "application/vnd.databricks.v1+cell": {
     "cellMetadata": {
      "byteLimit": 2048000,
      "implicitDf": true,
      "rowLimit": 10000
     },
     "inputWidgets": {},
     "nuid": "09848ce5-3c04-4f6f-bf9d-10852af06199",
     "showTitle": false,
     "title": ""
    }
   },
   "outputs": [
    {
     "data": {
      "text/html": [
       "<style scoped>\n",
       "  .table-result-container {\n",
       "    max-height: 300px;\n",
       "    overflow: auto;\n",
       "  }\n",
       "  table, th, td {\n",
       "    border: 1px solid black;\n",
       "    border-collapse: collapse;\n",
       "  }\n",
       "  th, td {\n",
       "    padding: 5px;\n",
       "  }\n",
       "  th {\n",
       "    text-align: left;\n",
       "  }\n",
       "</style><div class='table-result-container'><table class='table-result'><thead style='background-color: white'><tr></tr></thead><tbody></tbody></table></div>"
      ]
     },
     "metadata": {
      "application/vnd.databricks.v1+output": {
       "addedWidgets": {},
       "aggData": [],
       "aggError": "",
       "aggOverflow": false,
       "aggSchema": [],
       "aggSeriesLimitReached": false,
       "aggType": "",
       "arguments": {},
       "columnCustomDisplayInfos": {},
       "data": [],
       "datasetInfos": [],
       "dbfsResultPath": null,
       "isJsonSchema": true,
       "metadata": {
        "dataframeName": null
       },
       "overflow": false,
       "plotOptions": {
        "customPlotOptions": {},
        "displayType": "table",
        "pivotAggregation": null,
        "pivotColumns": null,
        "xColumns": null,
        "yColumns": null
       },
       "removedWidgets": [],
       "schema": [],
       "type": "table"
      }
     },
     "output_type": "display_data"
    }
   ],
   "source": [
    "%sql\n",
    "DROP DATABASE IF EXISTS dota2 CASCADE;\n",
    "CREATE DATABASE IF NOT EXISTS dota2;"
   ]
  },
  {
   "cell_type": "markdown",
   "metadata": {
    "application/vnd.databricks.v1+cell": {
     "cellMetadata": {},
     "inputWidgets": {},
     "nuid": "1e89d0cb-0416-4aeb-ba35-6a5f2fa48490",
     "showTitle": false,
     "title": ""
    }
   },
   "source": [
    "## Load Dota 2 data into Delta table for analysis\n",
    "Here, we load player, match, matchoutcomes, and chat data for demostration.\\\n",
    "We move the files to object storage and load the data into Delta tables, userscan check the dota2 database with 4 tables under Databricks data tab."
   ]
  },
  {
   "cell_type": "code",
   "execution_count": 0,
   "metadata": {
    "application/vnd.databricks.v1+cell": {
     "cellMetadata": {
      "byteLimit": 2048000,
      "rowLimit": 10000
     },
     "inputWidgets": {},
     "nuid": "dc08f270-856a-4498-a76c-439e5f7afdb3",
     "showTitle": false,
     "title": ""
    }
   },
   "outputs": [
    {
     "data": {
      "text/plain": [
       "True"
      ]
     },
     "execution_count": 50,
     "metadata": {},
     "output_type": "execute_result"
    }
   ],
   "source": [
    "#player data\n",
    "players_df = spark.read.csv(\"file:/Workspace/Users/hsu00161@umn.edu/players.csv\", header=True,escape='\"',multiLine=True)\n",
    "players_df.write.format(\"delta\").saveAsTable(f\"dota2.players\", overwrite=False)\n",
    "dbutils.fs.mv(\"file:/Workspace/Users/hsu00161@umn.edu/players.csv\", f\"dbfs:/tmp/players.csv\")"
   ]
  },
  {
   "cell_type": "code",
   "execution_count": 0,
   "metadata": {
    "application/vnd.databricks.v1+cell": {
     "cellMetadata": {
      "byteLimit": 2048000,
      "rowLimit": 10000
     },
     "inputWidgets": {},
     "nuid": "41d0da70-cc23-4785-adc1-359ee3d4d3bf",
     "showTitle": false,
     "title": ""
    }
   },
   "outputs": [
    {
     "data": {
      "text/plain": [
       "True"
      ]
     },
     "execution_count": 51,
     "metadata": {},
     "output_type": "execute_result"
    }
   ],
   "source": [
    "#match data\n",
    "match_df = spark.read.csv(\"file:/Workspace/Users/hsu00161@umn.edu/match.csv\", header=True,escape='\"',multiLine=True)\n",
    "match_df.write.format(\"delta\").saveAsTable(f\"dota2.match\", overwrite=False)\n",
    "dbutils.fs.mv(\"file:/Workspace/Users/hsu00161@umn.edu/match.csv\", f\"dbfs:/tmp/match.csv\")"
   ]
  },
  {
   "cell_type": "code",
   "execution_count": 0,
   "metadata": {
    "application/vnd.databricks.v1+cell": {
     "cellMetadata": {
      "byteLimit": 2048000,
      "rowLimit": 10000
     },
     "inputWidgets": {},
     "nuid": "4d4ce3b6-9dfd-4ab0-9024-6ef3e7f5a322",
     "showTitle": false,
     "title": ""
    }
   },
   "outputs": [
    {
     "data": {
      "text/plain": [
       "True"
      ]
     },
     "execution_count": 54,
     "metadata": {},
     "output_type": "execute_result"
    }
   ],
   "source": [
    "#matchoutcomes data\n",
    "matchoutc_df = spark.read.csv(\"file:/Workspace/Users/hsu00161@umn.edu/match_outcomes.csv\", header=True,escape='\"',multiLine=True)\n",
    "matchoutc_df.write.format(\"delta\").saveAsTable(f\"dota2.matchoutc\", overwrite=False)\n",
    "dbutils.fs.mv(\"file:/Workspace/Users/hsu00161@umn.edu/match_outcomes.csv\", f\"dbfs:/tmp/matchoutcomes.csv\")"
   ]
  },
  {
   "cell_type": "code",
   "execution_count": 0,
   "metadata": {
    "application/vnd.databricks.v1+cell": {
     "cellMetadata": {
      "byteLimit": 2048000,
      "rowLimit": 10000
     },
     "inputWidgets": {},
     "nuid": "c6b604f8-b606-4758-8d7d-fdbbf1986e9c",
     "showTitle": false,
     "title": ""
    }
   },
   "outputs": [
    {
     "data": {
      "text/plain": [
       "True"
      ]
     },
     "execution_count": 55,
     "metadata": {},
     "output_type": "execute_result"
    }
   ],
   "source": [
    "#chat data\n",
    "chat_df = spark.read.csv(\"file:/Workspace/Users/hsu00161@umn.edu/chat.csv\", header=True,escape='\"',multiLine=True)\n",
    "chat_df.write.format(\"delta\").saveAsTable(f\"dota2.chat\", overwrite=False)\n",
    "dbutils.fs.mv(\"file:/Workspace/Users/hsu00161@umn.edu/chat.csv\", f\"dbfs:/tmp/chat.csv\")"
   ]
  },
  {
   "cell_type": "code",
   "execution_count": 0,
   "metadata": {
    "application/vnd.databricks.v1+cell": {
     "cellMetadata": {
      "byteLimit": 2048000,
      "implicitDf": true,
      "rowLimit": 10000
     },
     "inputWidgets": {},
     "nuid": "2ffe8932-1d23-4ff6-877a-3acf206f4607",
     "showTitle": false,
     "title": ""
    }
   },
   "outputs": [
    {
     "data": {
      "text/html": [
       "<style scoped>\n",
       "  .table-result-container {\n",
       "    max-height: 300px;\n",
       "    overflow: auto;\n",
       "  }\n",
       "  table, th, td {\n",
       "    border: 1px solid black;\n",
       "    border-collapse: collapse;\n",
       "  }\n",
       "  th, td {\n",
       "    padding: 5px;\n",
       "  }\n",
       "  th {\n",
       "    text-align: left;\n",
       "  }\n",
       "</style><div class='table-result-container'><table class='table-result'><thead style='background-color: white'><tr><th>match_id</th><th>account_id</th><th>hero_id</th><th>player_slot</th><th>gold</th><th>gold_spent</th><th>gold_per_min</th><th>xp_per_min</th><th>kills</th><th>deaths</th><th>assists</th><th>denies</th><th>last_hits</th><th>stuns</th><th>hero_damage</th><th>hero_healing</th><th>tower_damage</th><th>item_0</th><th>item_1</th><th>item_2</th><th>item_3</th><th>item_4</th><th>item_5</th><th>level</th><th>leaver_status</th><th>xp_hero</th><th>xp_creep</th><th>xp_roshan</th><th>xp_other</th><th>gold_other</th><th>gold_death</th><th>gold_buyback</th><th>gold_abandon</th><th>gold_sell</th><th>gold_destroying_structure</th><th>gold_killing_heros</th><th>gold_killing_creeps</th><th>gold_killing_roshan</th><th>gold_killing_couriers</th><th>unit_order_none</th><th>unit_order_move_to_position</th><th>unit_order_move_to_target</th><th>unit_order_attack_move</th><th>unit_order_attack_target</th><th>unit_order_cast_position</th><th>unit_order_cast_target</th><th>unit_order_cast_target_tree</th><th>unit_order_cast_no_target</th><th>unit_order_cast_toggle</th><th>unit_order_hold_position</th><th>unit_order_train_ability</th><th>unit_order_drop_item</th><th>unit_order_give_item</th><th>unit_order_pickup_item</th><th>unit_order_pickup_rune</th><th>unit_order_purchase_item</th><th>unit_order_sell_item</th><th>unit_order_disassemble_item</th><th>unit_order_move_item</th><th>unit_order_cast_toggle_auto</th><th>unit_order_stop</th><th>unit_order_taunt</th><th>unit_order_buyback</th><th>unit_order_glyph</th><th>unit_order_eject_item_from_stash</th><th>unit_order_cast_rune</th><th>unit_order_ping_ability</th><th>unit_order_move_to_direction</th><th>unit_order_patrol</th><th>unit_order_vector_target_position</th><th>unit_order_radar</th><th>unit_order_set_item_combine_lock</th><th>unit_order_continue</th></tr></thead><tbody><tr><td>0</td><td>0</td><td>86</td><td>0</td><td>3261</td><td>10960</td><td>347</td><td>362</td><td>9</td><td>3</td><td>18</td><td>1</td><td>30</td><td>76.7356</td><td>8690</td><td>218</td><td>143</td><td>180</td><td>37</td><td>73</td><td>56</td><td>108</td><td>0</td><td>16</td><td>0</td><td>8840.0</td><td>5440.0</td><td>null</td><td>83.0</td><td>50.0</td><td>-957.0</td><td>null</td><td>null</td><td>212.0</td><td>3120.0</td><td>5145.0</td><td>1087.0</td><td>400.0</td><td>null</td><td>null</td><td>4070.0</td><td>1.0</td><td>25.0</td><td>416.0</td><td>51.0</td><td>144.0</td><td>3.0</td><td>71.0</td><td>null</td><td>188.0</td><td>16.0</td><td>null</td><td>null</td><td>null</td><td>2.0</td><td>35.0</td><td>2.0</td><td>null</td><td>11.0</td><td>null</td><td>null</td><td>null</td><td>null</td><td>null</td><td>null</td><td>null</td><td>6.0</td><td>null</td><td>null</td><td>null</td><td>null</td><td>null</td><td>null</td></tr><tr><td>0</td><td>1</td><td>51</td><td>1</td><td>2954</td><td>17760</td><td>494</td><td>659</td><td>13</td><td>3</td><td>18</td><td>9</td><td>109</td><td>87.4164</td><td>23747</td><td>0</td><td>423</td><td>46</td><td>63</td><td>119</td><td>102</td><td>24</td><td>108</td><td>22</td><td>0</td><td>14331.0</td><td>8440.0</td><td>2683.0</td><td>671.0</td><td>395.0</td><td>-1137.0</td><td>null</td><td>null</td><td>1650.0</td><td>3299.0</td><td>6676.0</td><td>4317.0</td><td>937.0</td><td>null</td><td>null</td><td>5894.0</td><td>214.0</td><td>165.0</td><td>1031.0</td><td>98.0</td><td>39.0</td><td>4.0</td><td>439.0</td><td>null</td><td>346.0</td><td>22.0</td><td>null</td><td>null</td><td>12.0</td><td>52.0</td><td>30.0</td><td>4.0</td><td>null</td><td>21.0</td><td>null</td><td>null</td><td>null</td><td>null</td><td>null</td><td>null</td><td>null</td><td>14.0</td><td>null</td><td>null</td><td>null</td><td>null</td><td>null</td><td>null</td></tr><tr><td>0</td><td>0</td><td>83</td><td>2</td><td>110</td><td>12195</td><td>350</td><td>385</td><td>0</td><td>4</td><td>15</td><td>1</td><td>58</td><td>None</td><td>4217</td><td>1595</td><td>399</td><td>48</td><td>60</td><td>59</td><td>108</td><td>65</td><td>0</td><td>17</td><td>0</td><td>6692.0</td><td>8112.0</td><td>null</td><td>453.0</td><td>259.0</td><td>-1436.0</td><td>-1015.0</td><td>null</td><td>null</td><td>3142.0</td><td>2418.0</td><td>3697.0</td><td>400.0</td><td>null</td><td>null</td><td>7053.0</td><td>3.0</td><td>132.0</td><td>645.0</td><td>36.0</td><td>160.0</td><td>20.0</td><td>373.0</td><td>null</td><td>643.0</td><td>17.0</td><td>5.0</td><td>null</td><td>7.0</td><td>8.0</td><td>28.0</td><td>null</td><td>1.0</td><td>18.0</td><td>null</td><td>null</td><td>null</td><td>1.0</td><td>null</td><td>null</td><td>null</td><td>17.0</td><td>null</td><td>null</td><td>null</td><td>null</td><td>null</td><td>null</td></tr><tr><td>0</td><td>2</td><td>11</td><td>3</td><td>1179</td><td>22505</td><td>599</td><td>605</td><td>8</td><td>4</td><td>19</td><td>6</td><td>271</td><td>None</td><td>14832</td><td>2714</td><td>6055</td><td>63</td><td>147</td><td>154</td><td>164</td><td>79</td><td>160</td><td>21</td><td>0</td><td>8583.0</td><td>14230.0</td><td>894.0</td><td>293.0</td><td>100.0</td><td>-2156.0</td><td>null</td><td>null</td><td>938.0</td><td>4714.0</td><td>4104.0</td><td>10432.0</td><td>400.0</td><td>null</td><td>null</td><td>4712.0</td><td>133.0</td><td>163.0</td><td>690.0</td><td>9.0</td><td>15.0</td><td>7.0</td><td>406.0</td><td>null</td><td>150.0</td><td>21.0</td><td>null</td><td>null</td><td>1.0</td><td>9.0</td><td>45.0</td><td>7.0</td><td>null</td><td>14.0</td><td>null</td><td>null</td><td>null</td><td>null</td><td>1.0</td><td>null</td><td>null</td><td>13.0</td><td>null</td><td>null</td><td>null</td><td>null</td><td>null</td><td>null</td></tr><tr><td>0</td><td>3</td><td>67</td><td>4</td><td>3307</td><td>23825</td><td>613</td><td>762</td><td>20</td><td>3</td><td>17</td><td>13</td><td>245</td><td>None</td><td>33740</td><td>243</td><td>1833</td><td>114</td><td>92</td><td>147</td><td>0</td><td>137</td><td>63</td><td>24</td><td>0</td><td>15814.0</td><td>14325.0</td><td>null</td><td>62.0</td><td>null</td><td>-1437.0</td><td>-1056.0</td><td>null</td><td>4194.0</td><td>3217.0</td><td>7467.0</td><td>9220.0</td><td>400.0</td><td>null</td><td>null</td><td>3853.0</td><td>7.0</td><td>7.0</td><td>1173.0</td><td>31.0</td><td>84.0</td><td>8.0</td><td>198.0</td><td>null</td><td>111.0</td><td>23.0</td><td>1.0</td><td>null</td><td>null</td><td>2.0</td><td>44.0</td><td>6.0</td><td>null</td><td>13.0</td><td>null</td><td>null</td><td>null</td><td>1.0</td><td>3.0</td><td>null</td><td>null</td><td>23.0</td><td>null</td><td>null</td><td>null</td><td>null</td><td>null</td><td>null</td></tr></tbody></table></div>"
      ]
     },
     "metadata": {
      "application/vnd.databricks.v1+output": {
       "addedWidgets": {},
       "aggData": [],
       "aggError": "",
       "aggOverflow": false,
       "aggSchema": [],
       "aggSeriesLimitReached": false,
       "aggType": "",
       "arguments": {},
       "columnCustomDisplayInfos": {},
       "data": [
        [
         "0",
         "0",
         "86",
         "0",
         "3261",
         "10960",
         "347",
         "362",
         "9",
         "3",
         "18",
         "1",
         "30",
         "76.7356",
         "8690",
         "218",
         "143",
         "180",
         "37",
         "73",
         "56",
         "108",
         "0",
         "16",
         "0",
         "8840.0",
         "5440.0",
         null,
         "83.0",
         "50.0",
         "-957.0",
         null,
         null,
         "212.0",
         "3120.0",
         "5145.0",
         "1087.0",
         "400.0",
         null,
         null,
         "4070.0",
         "1.0",
         "25.0",
         "416.0",
         "51.0",
         "144.0",
         "3.0",
         "71.0",
         null,
         "188.0",
         "16.0",
         null,
         null,
         null,
         "2.0",
         "35.0",
         "2.0",
         null,
         "11.0",
         null,
         null,
         null,
         null,
         null,
         null,
         null,
         "6.0",
         null,
         null,
         null,
         null,
         null,
         null
        ],
        [
         "0",
         "1",
         "51",
         "1",
         "2954",
         "17760",
         "494",
         "659",
         "13",
         "3",
         "18",
         "9",
         "109",
         "87.4164",
         "23747",
         "0",
         "423",
         "46",
         "63",
         "119",
         "102",
         "24",
         "108",
         "22",
         "0",
         "14331.0",
         "8440.0",
         "2683.0",
         "671.0",
         "395.0",
         "-1137.0",
         null,
         null,
         "1650.0",
         "3299.0",
         "6676.0",
         "4317.0",
         "937.0",
         null,
         null,
         "5894.0",
         "214.0",
         "165.0",
         "1031.0",
         "98.0",
         "39.0",
         "4.0",
         "439.0",
         null,
         "346.0",
         "22.0",
         null,
         null,
         "12.0",
         "52.0",
         "30.0",
         "4.0",
         null,
         "21.0",
         null,
         null,
         null,
         null,
         null,
         null,
         null,
         "14.0",
         null,
         null,
         null,
         null,
         null,
         null
        ],
        [
         "0",
         "0",
         "83",
         "2",
         "110",
         "12195",
         "350",
         "385",
         "0",
         "4",
         "15",
         "1",
         "58",
         "None",
         "4217",
         "1595",
         "399",
         "48",
         "60",
         "59",
         "108",
         "65",
         "0",
         "17",
         "0",
         "6692.0",
         "8112.0",
         null,
         "453.0",
         "259.0",
         "-1436.0",
         "-1015.0",
         null,
         null,
         "3142.0",
         "2418.0",
         "3697.0",
         "400.0",
         null,
         null,
         "7053.0",
         "3.0",
         "132.0",
         "645.0",
         "36.0",
         "160.0",
         "20.0",
         "373.0",
         null,
         "643.0",
         "17.0",
         "5.0",
         null,
         "7.0",
         "8.0",
         "28.0",
         null,
         "1.0",
         "18.0",
         null,
         null,
         null,
         "1.0",
         null,
         null,
         null,
         "17.0",
         null,
         null,
         null,
         null,
         null,
         null
        ],
        [
         "0",
         "2",
         "11",
         "3",
         "1179",
         "22505",
         "599",
         "605",
         "8",
         "4",
         "19",
         "6",
         "271",
         "None",
         "14832",
         "2714",
         "6055",
         "63",
         "147",
         "154",
         "164",
         "79",
         "160",
         "21",
         "0",
         "8583.0",
         "14230.0",
         "894.0",
         "293.0",
         "100.0",
         "-2156.0",
         null,
         null,
         "938.0",
         "4714.0",
         "4104.0",
         "10432.0",
         "400.0",
         null,
         null,
         "4712.0",
         "133.0",
         "163.0",
         "690.0",
         "9.0",
         "15.0",
         "7.0",
         "406.0",
         null,
         "150.0",
         "21.0",
         null,
         null,
         "1.0",
         "9.0",
         "45.0",
         "7.0",
         null,
         "14.0",
         null,
         null,
         null,
         null,
         "1.0",
         null,
         null,
         "13.0",
         null,
         null,
         null,
         null,
         null,
         null
        ],
        [
         "0",
         "3",
         "67",
         "4",
         "3307",
         "23825",
         "613",
         "762",
         "20",
         "3",
         "17",
         "13",
         "245",
         "None",
         "33740",
         "243",
         "1833",
         "114",
         "92",
         "147",
         "0",
         "137",
         "63",
         "24",
         "0",
         "15814.0",
         "14325.0",
         null,
         "62.0",
         null,
         "-1437.0",
         "-1056.0",
         null,
         "4194.0",
         "3217.0",
         "7467.0",
         "9220.0",
         "400.0",
         null,
         null,
         "3853.0",
         "7.0",
         "7.0",
         "1173.0",
         "31.0",
         "84.0",
         "8.0",
         "198.0",
         null,
         "111.0",
         "23.0",
         "1.0",
         null,
         null,
         "2.0",
         "44.0",
         "6.0",
         null,
         "13.0",
         null,
         null,
         null,
         "1.0",
         "3.0",
         null,
         null,
         "23.0",
         null,
         null,
         null,
         null,
         null,
         null
        ]
       ],
       "datasetInfos": [],
       "dbfsResultPath": null,
       "isJsonSchema": true,
       "metadata": {
        "dataframeName": "_sqldf",
        "executionCount": 56
       },
       "overflow": false,
       "plotOptions": {
        "customPlotOptions": {},
        "displayType": "table",
        "pivotAggregation": null,
        "pivotColumns": null,
        "xColumns": null,
        "yColumns": null
       },
       "removedWidgets": [],
       "schema": [
        {
         "metadata": "{}",
         "name": "match_id",
         "type": "\"string\""
        },
        {
         "metadata": "{}",
         "name": "account_id",
         "type": "\"string\""
        },
        {
         "metadata": "{}",
         "name": "hero_id",
         "type": "\"string\""
        },
        {
         "metadata": "{}",
         "name": "player_slot",
         "type": "\"string\""
        },
        {
         "metadata": "{}",
         "name": "gold",
         "type": "\"string\""
        },
        {
         "metadata": "{}",
         "name": "gold_spent",
         "type": "\"string\""
        },
        {
         "metadata": "{}",
         "name": "gold_per_min",
         "type": "\"string\""
        },
        {
         "metadata": "{}",
         "name": "xp_per_min",
         "type": "\"string\""
        },
        {
         "metadata": "{}",
         "name": "kills",
         "type": "\"string\""
        },
        {
         "metadata": "{}",
         "name": "deaths",
         "type": "\"string\""
        },
        {
         "metadata": "{}",
         "name": "assists",
         "type": "\"string\""
        },
        {
         "metadata": "{}",
         "name": "denies",
         "type": "\"string\""
        },
        {
         "metadata": "{}",
         "name": "last_hits",
         "type": "\"string\""
        },
        {
         "metadata": "{}",
         "name": "stuns",
         "type": "\"string\""
        },
        {
         "metadata": "{}",
         "name": "hero_damage",
         "type": "\"string\""
        },
        {
         "metadata": "{}",
         "name": "hero_healing",
         "type": "\"string\""
        },
        {
         "metadata": "{}",
         "name": "tower_damage",
         "type": "\"string\""
        },
        {
         "metadata": "{}",
         "name": "item_0",
         "type": "\"string\""
        },
        {
         "metadata": "{}",
         "name": "item_1",
         "type": "\"string\""
        },
        {
         "metadata": "{}",
         "name": "item_2",
         "type": "\"string\""
        },
        {
         "metadata": "{}",
         "name": "item_3",
         "type": "\"string\""
        },
        {
         "metadata": "{}",
         "name": "item_4",
         "type": "\"string\""
        },
        {
         "metadata": "{}",
         "name": "item_5",
         "type": "\"string\""
        },
        {
         "metadata": "{}",
         "name": "level",
         "type": "\"string\""
        },
        {
         "metadata": "{}",
         "name": "leaver_status",
         "type": "\"string\""
        },
        {
         "metadata": "{}",
         "name": "xp_hero",
         "type": "\"string\""
        },
        {
         "metadata": "{}",
         "name": "xp_creep",
         "type": "\"string\""
        },
        {
         "metadata": "{}",
         "name": "xp_roshan",
         "type": "\"string\""
        },
        {
         "metadata": "{}",
         "name": "xp_other",
         "type": "\"string\""
        },
        {
         "metadata": "{}",
         "name": "gold_other",
         "type": "\"string\""
        },
        {
         "metadata": "{}",
         "name": "gold_death",
         "type": "\"string\""
        },
        {
         "metadata": "{}",
         "name": "gold_buyback",
         "type": "\"string\""
        },
        {
         "metadata": "{}",
         "name": "gold_abandon",
         "type": "\"string\""
        },
        {
         "metadata": "{}",
         "name": "gold_sell",
         "type": "\"string\""
        },
        {
         "metadata": "{}",
         "name": "gold_destroying_structure",
         "type": "\"string\""
        },
        {
         "metadata": "{}",
         "name": "gold_killing_heros",
         "type": "\"string\""
        },
        {
         "metadata": "{}",
         "name": "gold_killing_creeps",
         "type": "\"string\""
        },
        {
         "metadata": "{}",
         "name": "gold_killing_roshan",
         "type": "\"string\""
        },
        {
         "metadata": "{}",
         "name": "gold_killing_couriers",
         "type": "\"string\""
        },
        {
         "metadata": "{}",
         "name": "unit_order_none",
         "type": "\"string\""
        },
        {
         "metadata": "{}",
         "name": "unit_order_move_to_position",
         "type": "\"string\""
        },
        {
         "metadata": "{}",
         "name": "unit_order_move_to_target",
         "type": "\"string\""
        },
        {
         "metadata": "{}",
         "name": "unit_order_attack_move",
         "type": "\"string\""
        },
        {
         "metadata": "{}",
         "name": "unit_order_attack_target",
         "type": "\"string\""
        },
        {
         "metadata": "{}",
         "name": "unit_order_cast_position",
         "type": "\"string\""
        },
        {
         "metadata": "{}",
         "name": "unit_order_cast_target",
         "type": "\"string\""
        },
        {
         "metadata": "{}",
         "name": "unit_order_cast_target_tree",
         "type": "\"string\""
        },
        {
         "metadata": "{}",
         "name": "unit_order_cast_no_target",
         "type": "\"string\""
        },
        {
         "metadata": "{}",
         "name": "unit_order_cast_toggle",
         "type": "\"string\""
        },
        {
         "metadata": "{}",
         "name": "unit_order_hold_position",
         "type": "\"string\""
        },
        {
         "metadata": "{}",
         "name": "unit_order_train_ability",
         "type": "\"string\""
        },
        {
         "metadata": "{}",
         "name": "unit_order_drop_item",
         "type": "\"string\""
        },
        {
         "metadata": "{}",
         "name": "unit_order_give_item",
         "type": "\"string\""
        },
        {
         "metadata": "{}",
         "name": "unit_order_pickup_item",
         "type": "\"string\""
        },
        {
         "metadata": "{}",
         "name": "unit_order_pickup_rune",
         "type": "\"string\""
        },
        {
         "metadata": "{}",
         "name": "unit_order_purchase_item",
         "type": "\"string\""
        },
        {
         "metadata": "{}",
         "name": "unit_order_sell_item",
         "type": "\"string\""
        },
        {
         "metadata": "{}",
         "name": "unit_order_disassemble_item",
         "type": "\"string\""
        },
        {
         "metadata": "{}",
         "name": "unit_order_move_item",
         "type": "\"string\""
        },
        {
         "metadata": "{}",
         "name": "unit_order_cast_toggle_auto",
         "type": "\"string\""
        },
        {
         "metadata": "{}",
         "name": "unit_order_stop",
         "type": "\"string\""
        },
        {
         "metadata": "{}",
         "name": "unit_order_taunt",
         "type": "\"string\""
        },
        {
         "metadata": "{}",
         "name": "unit_order_buyback",
         "type": "\"string\""
        },
        {
         "metadata": "{}",
         "name": "unit_order_glyph",
         "type": "\"string\""
        },
        {
         "metadata": "{}",
         "name": "unit_order_eject_item_from_stash",
         "type": "\"string\""
        },
        {
         "metadata": "{}",
         "name": "unit_order_cast_rune",
         "type": "\"string\""
        },
        {
         "metadata": "{}",
         "name": "unit_order_ping_ability",
         "type": "\"string\""
        },
        {
         "metadata": "{}",
         "name": "unit_order_move_to_direction",
         "type": "\"string\""
        },
        {
         "metadata": "{}",
         "name": "unit_order_patrol",
         "type": "\"string\""
        },
        {
         "metadata": "{}",
         "name": "unit_order_vector_target_position",
         "type": "\"string\""
        },
        {
         "metadata": "{}",
         "name": "unit_order_radar",
         "type": "\"string\""
        },
        {
         "metadata": "{}",
         "name": "unit_order_set_item_combine_lock",
         "type": "\"string\""
        },
        {
         "metadata": "{}",
         "name": "unit_order_continue",
         "type": "\"string\""
        }
       ],
       "type": "table"
      }
     },
     "output_type": "display_data"
    }
   ],
   "source": [
    "%sql \n",
    "select * from dota2.players limit 5"
   ]
  },
  {
   "cell_type": "code",
   "execution_count": 0,
   "metadata": {
    "application/vnd.databricks.v1+cell": {
     "cellMetadata": {
      "byteLimit": 2048000,
      "implicitDf": true,
      "rowLimit": 10000
     },
     "inputWidgets": {},
     "nuid": "6cebd402-a971-43b3-a755-b5facd470486",
     "showTitle": false,
     "title": ""
    }
   },
   "outputs": [
    {
     "data": {
      "text/html": [
       "<style scoped>\n",
       "  .table-result-container {\n",
       "    max-height: 300px;\n",
       "    overflow: auto;\n",
       "  }\n",
       "  table, th, td {\n",
       "    border: 1px solid black;\n",
       "    border-collapse: collapse;\n",
       "  }\n",
       "  th, td {\n",
       "    padding: 5px;\n",
       "  }\n",
       "  th {\n",
       "    text-align: left;\n",
       "  }\n",
       "</style><div class='table-result-container'><table class='table-result'><thead style='background-color: white'><tr><th>match_id</th><th>key</th><th>slot</th><th>time</th><th>unit</th></tr></thead><tbody><tr><td>0</td><td>force it</td><td>6</td><td>-8</td><td>6k Slayer</td></tr><tr><td>0</td><td>space created</td><td>1</td><td>5</td><td>Monkey</td></tr><tr><td>0</td><td>hah</td><td>1</td><td>6</td><td>Monkey</td></tr><tr><td>0</td><td>ez 500</td><td>6</td><td>9</td><td>6k Slayer</td></tr><tr><td>0</td><td>mvp ulti</td><td>4</td><td>934</td><td>Kira</td></tr></tbody></table></div>"
      ]
     },
     "metadata": {
      "application/vnd.databricks.v1+output": {
       "addedWidgets": {},
       "aggData": [],
       "aggError": "",
       "aggOverflow": false,
       "aggSchema": [],
       "aggSeriesLimitReached": false,
       "aggType": "",
       "arguments": {},
       "columnCustomDisplayInfos": {},
       "data": [
        [
         "0",
         "force it",
         "6",
         "-8",
         "6k Slayer"
        ],
        [
         "0",
         "space created",
         "1",
         "5",
         "Monkey"
        ],
        [
         "0",
         "hah",
         "1",
         "6",
         "Monkey"
        ],
        [
         "0",
         "ez 500",
         "6",
         "9",
         "6k Slayer"
        ],
        [
         "0",
         "mvp ulti",
         "4",
         "934",
         "Kira"
        ]
       ],
       "datasetInfos": [],
       "dbfsResultPath": null,
       "isJsonSchema": true,
       "metadata": {
        "dataframeName": "_sqldf",
        "executionCount": 61
       },
       "overflow": false,
       "plotOptions": {
        "customPlotOptions": {},
        "displayType": "table",
        "pivotAggregation": null,
        "pivotColumns": null,
        "xColumns": null,
        "yColumns": null
       },
       "removedWidgets": [],
       "schema": [
        {
         "metadata": "{}",
         "name": "match_id",
         "type": "\"string\""
        },
        {
         "metadata": "{}",
         "name": "key",
         "type": "\"string\""
        },
        {
         "metadata": "{}",
         "name": "slot",
         "type": "\"string\""
        },
        {
         "metadata": "{}",
         "name": "time",
         "type": "\"string\""
        },
        {
         "metadata": "{}",
         "name": "unit",
         "type": "\"string\""
        }
       ],
       "type": "table"
      }
     },
     "output_type": "display_data"
    }
   ],
   "source": [
    "%sql\n",
    "select * from dota2.chat limit 5"
   ]
  },
  {
   "cell_type": "code",
   "execution_count": 0,
   "metadata": {
    "application/vnd.databricks.v1+cell": {
     "cellMetadata": {
      "byteLimit": 2048000,
      "implicitDf": true,
      "rowLimit": 10000
     },
     "inputWidgets": {},
     "nuid": "37c5ab2a-e1d2-4aaf-863f-a7db76cac594",
     "showTitle": false,
     "title": ""
    }
   },
   "outputs": [
    {
     "data": {
      "text/html": [
       "<style scoped>\n",
       "  .table-result-container {\n",
       "    max-height: 300px;\n",
       "    overflow: auto;\n",
       "  }\n",
       "  table, th, td {\n",
       "    border: 1px solid black;\n",
       "    border-collapse: collapse;\n",
       "  }\n",
       "  th, td {\n",
       "    padding: 5px;\n",
       "  }\n",
       "  th {\n",
       "    text-align: left;\n",
       "  }\n",
       "</style><div class='table-result-container'><table class='table-result'><thead style='background-color: white'><tr><th>match_id</th><th>account_id_0</th><th>account_id_1</th><th>account_id_2</th><th>account_id_3</th><th>account_id_4</th><th>start_time</th><th>parser_version</th><th>win</th><th>rad</th></tr></thead><tbody><tr><td>1636204962</td><td>34549</td><td>0</td><td>0</td><td>-51743434</td><td>-120875154</td><td>1437014585</td><td>12</td><td>1</td><td>0</td></tr><tr><td>1636204962</td><td>0</td><td>61598</td><td>138825</td><td>0</td><td>207232</td><td>1437014585</td><td>12</td><td>0</td><td>1</td></tr><tr><td>1636322679</td><td>0</td><td>-44943233</td><td>-240360907</td><td>19599</td><td>0</td><td>1437019968</td><td>12</td><td>0</td><td>0</td></tr><tr><td>1636322679</td><td>-97530201</td><td>0</td><td>0</td><td>0</td><td>-116349387</td><td>1437019968</td><td>12</td><td>1</td><td>1</td></tr><tr><td>1637385965</td><td>0</td><td>0</td><td>0</td><td>104738</td><td>0</td><td>1437052551</td><td>12</td><td>1</td><td>0</td></tr></tbody></table></div>"
      ]
     },
     "metadata": {
      "application/vnd.databricks.v1+output": {
       "addedWidgets": {},
       "aggData": [],
       "aggError": "",
       "aggOverflow": false,
       "aggSchema": [],
       "aggSeriesLimitReached": false,
       "aggType": "",
       "arguments": {},
       "columnCustomDisplayInfos": {},
       "data": [
        [
         "1636204962",
         "34549",
         "0",
         "0",
         "-51743434",
         "-120875154",
         "1437014585",
         "12",
         "1",
         "0"
        ],
        [
         "1636204962",
         "0",
         "61598",
         "138825",
         "0",
         "207232",
         "1437014585",
         "12",
         "0",
         "1"
        ],
        [
         "1636322679",
         "0",
         "-44943233",
         "-240360907",
         "19599",
         "0",
         "1437019968",
         "12",
         "0",
         "0"
        ],
        [
         "1636322679",
         "-97530201",
         "0",
         "0",
         "0",
         "-116349387",
         "1437019968",
         "12",
         "1",
         "1"
        ],
        [
         "1637385965",
         "0",
         "0",
         "0",
         "104738",
         "0",
         "1437052551",
         "12",
         "1",
         "0"
        ]
       ],
       "datasetInfos": [],
       "dbfsResultPath": null,
       "isJsonSchema": true,
       "metadata": {
        "dataframeName": "_sqldf",
        "executionCount": 58
       },
       "overflow": false,
       "plotOptions": {
        "customPlotOptions": {},
        "displayType": "table",
        "pivotAggregation": null,
        "pivotColumns": null,
        "xColumns": null,
        "yColumns": null
       },
       "removedWidgets": [],
       "schema": [
        {
         "metadata": "{}",
         "name": "match_id",
         "type": "\"string\""
        },
        {
         "metadata": "{}",
         "name": "account_id_0",
         "type": "\"string\""
        },
        {
         "metadata": "{}",
         "name": "account_id_1",
         "type": "\"string\""
        },
        {
         "metadata": "{}",
         "name": "account_id_2",
         "type": "\"string\""
        },
        {
         "metadata": "{}",
         "name": "account_id_3",
         "type": "\"string\""
        },
        {
         "metadata": "{}",
         "name": "account_id_4",
         "type": "\"string\""
        },
        {
         "metadata": "{}",
         "name": "start_time",
         "type": "\"string\""
        },
        {
         "metadata": "{}",
         "name": "parser_version",
         "type": "\"string\""
        },
        {
         "metadata": "{}",
         "name": "win",
         "type": "\"string\""
        },
        {
         "metadata": "{}",
         "name": "rad",
         "type": "\"string\""
        }
       ],
       "type": "table"
      }
     },
     "output_type": "display_data"
    }
   ],
   "source": [
    "%sql\n",
    "select * from dota2.matchoutc limit 5"
   ]
  },
  {
   "cell_type": "code",
   "execution_count": 0,
   "metadata": {
    "application/vnd.databricks.v1+cell": {
     "cellMetadata": {
      "byteLimit": 2048000,
      "implicitDf": true,
      "rowLimit": 10000
     },
     "inputWidgets": {},
     "nuid": "5f57f5f4-a89d-475a-82df-aa0f1e594306",
     "showTitle": false,
     "title": ""
    }
   },
   "outputs": [
    {
     "data": {
      "text/html": [
       "<style scoped>\n",
       "  .table-result-container {\n",
       "    max-height: 300px;\n",
       "    overflow: auto;\n",
       "  }\n",
       "  table, th, td {\n",
       "    border: 1px solid black;\n",
       "    border-collapse: collapse;\n",
       "  }\n",
       "  th, td {\n",
       "    padding: 5px;\n",
       "  }\n",
       "  th {\n",
       "    text-align: left;\n",
       "  }\n",
       "</style><div class='table-result-container'><table class='table-result'><thead style='background-color: white'><tr><th>match_id</th><th>start_time</th><th>duration</th><th>tower_status_radiant</th><th>tower_status_dire</th><th>barracks_status_dire</th><th>barracks_status_radiant</th><th>first_blood_time</th><th>game_mode</th><th>radiant_win</th><th>negative_votes</th><th>positive_votes</th><th>cluster</th></tr></thead><tbody><tr><td>0</td><td>1446750112</td><td>2375</td><td>1982</td><td>4</td><td>3</td><td>63</td><td>1</td><td>22</td><td>True</td><td>0</td><td>1</td><td>155</td></tr><tr><td>1</td><td>1446753078</td><td>2582</td><td>0</td><td>1846</td><td>63</td><td>0</td><td>221</td><td>22</td><td>False</td><td>0</td><td>2</td><td>154</td></tr><tr><td>2</td><td>1446764586</td><td>2716</td><td>256</td><td>1972</td><td>63</td><td>48</td><td>190</td><td>22</td><td>False</td><td>0</td><td>0</td><td>132</td></tr><tr><td>3</td><td>1446765723</td><td>3085</td><td>4</td><td>1924</td><td>51</td><td>3</td><td>40</td><td>22</td><td>False</td><td>0</td><td>0</td><td>191</td></tr><tr><td>4</td><td>1446796385</td><td>1887</td><td>2047</td><td>0</td><td>0</td><td>63</td><td>58</td><td>22</td><td>True</td><td>0</td><td>0</td><td>156</td></tr></tbody></table></div>"
      ]
     },
     "metadata": {
      "application/vnd.databricks.v1+output": {
       "addedWidgets": {},
       "aggData": [],
       "aggError": "",
       "aggOverflow": false,
       "aggSchema": [],
       "aggSeriesLimitReached": false,
       "aggType": "",
       "arguments": {},
       "columnCustomDisplayInfos": {},
       "data": [
        [
         "0",
         "1446750112",
         "2375",
         "1982",
         "4",
         "3",
         "63",
         "1",
         "22",
         "True",
         "0",
         "1",
         "155"
        ],
        [
         "1",
         "1446753078",
         "2582",
         "0",
         "1846",
         "63",
         "0",
         "221",
         "22",
         "False",
         "0",
         "2",
         "154"
        ],
        [
         "2",
         "1446764586",
         "2716",
         "256",
         "1972",
         "63",
         "48",
         "190",
         "22",
         "False",
         "0",
         "0",
         "132"
        ],
        [
         "3",
         "1446765723",
         "3085",
         "4",
         "1924",
         "51",
         "3",
         "40",
         "22",
         "False",
         "0",
         "0",
         "191"
        ],
        [
         "4",
         "1446796385",
         "1887",
         "2047",
         "0",
         "0",
         "63",
         "58",
         "22",
         "True",
         "0",
         "0",
         "156"
        ]
       ],
       "datasetInfos": [],
       "dbfsResultPath": null,
       "isJsonSchema": true,
       "metadata": {
        "dataframeName": "_sqldf",
        "executionCount": 59
       },
       "overflow": false,
       "plotOptions": {
        "customPlotOptions": {},
        "displayType": "table",
        "pivotAggregation": null,
        "pivotColumns": null,
        "xColumns": null,
        "yColumns": null
       },
       "removedWidgets": [],
       "schema": [
        {
         "metadata": "{}",
         "name": "match_id",
         "type": "\"string\""
        },
        {
         "metadata": "{}",
         "name": "start_time",
         "type": "\"string\""
        },
        {
         "metadata": "{}",
         "name": "duration",
         "type": "\"string\""
        },
        {
         "metadata": "{}",
         "name": "tower_status_radiant",
         "type": "\"string\""
        },
        {
         "metadata": "{}",
         "name": "tower_status_dire",
         "type": "\"string\""
        },
        {
         "metadata": "{}",
         "name": "barracks_status_dire",
         "type": "\"string\""
        },
        {
         "metadata": "{}",
         "name": "barracks_status_radiant",
         "type": "\"string\""
        },
        {
         "metadata": "{}",
         "name": "first_blood_time",
         "type": "\"string\""
        },
        {
         "metadata": "{}",
         "name": "game_mode",
         "type": "\"string\""
        },
        {
         "metadata": "{}",
         "name": "radiant_win",
         "type": "\"string\""
        },
        {
         "metadata": "{}",
         "name": "negative_votes",
         "type": "\"string\""
        },
        {
         "metadata": "{}",
         "name": "positive_votes",
         "type": "\"string\""
        },
        {
         "metadata": "{}",
         "name": "cluster",
         "type": "\"string\""
        }
       ],
       "type": "table"
      }
     },
     "output_type": "display_data"
    }
   ],
   "source": [
    "%sql\n",
    "select * from dota2.match limit 5"
   ]
  },
  {
   "cell_type": "markdown",
   "metadata": {},
   "source": [
    "## Exploration\n",
    "We can perform sql query with our delta database, here, we demostrate the query to check the message count per account."
   ]
  },
  {
   "cell_type": "code",
   "execution_count": 0,
   "metadata": {
    "application/vnd.databricks.v1+cell": {
     "cellMetadata": {
      "byteLimit": 2048000,
      "implicitDf": true,
      "rowLimit": 10000
     },
     "inputWidgets": {},
     "nuid": "166e48e0-83bc-4486-b2b5-9832a2ac2c29",
     "showTitle": false,
     "title": ""
    }
   },
   "outputs": [
    {
     "data": {
      "text/html": [
       "<style scoped>\n",
       "  .table-result-container {\n",
       "    max-height: 300px;\n",
       "    overflow: auto;\n",
       "  }\n",
       "  table, th, td {\n",
       "    border: 1px solid black;\n",
       "    border-collapse: collapse;\n",
       "  }\n",
       "  th, td {\n",
       "    padding: 5px;\n",
       "  }\n",
       "  th {\n",
       "    text-align: left;\n",
       "  }\n",
       "</style><div class='table-result-container'><table class='table-result'><thead style='background-color: white'><tr><th>account_id</th><th># of messages</th></tr></thead><tbody><tr><td>0</td><td>261181</td></tr><tr><td>2962</td><td>820</td></tr><tr><td>20197</td><td>382</td></tr><tr><td>9149</td><td>297</td></tr><tr><td>46420</td><td>296</td></tr><tr><td>52081</td><td>264</td></tr><tr><td>34471</td><td>248</td></tr><tr><td>5747</td><td>242</td></tr><tr><td>30846</td><td>238</td></tr><tr><td>2276</td><td>233</td></tr></tbody></table></div>"
      ]
     },
     "metadata": {
      "application/vnd.databricks.v1+output": {
       "addedWidgets": {},
       "aggData": [],
       "aggError": "",
       "aggOverflow": false,
       "aggSchema": [],
       "aggSeriesLimitReached": false,
       "aggType": "",
       "arguments": {},
       "columnCustomDisplayInfos": {},
       "data": [
        [
         "0",
         261181
        ],
        [
         "2962",
         820
        ],
        [
         "20197",
         382
        ],
        [
         "9149",
         297
        ],
        [
         "46420",
         296
        ],
        [
         "52081",
         264
        ],
        [
         "34471",
         248
        ],
        [
         "5747",
         242
        ],
        [
         "30846",
         238
        ],
        [
         "2276",
         233
        ]
       ],
       "datasetInfos": [],
       "dbfsResultPath": null,
       "isJsonSchema": true,
       "metadata": {
        "dataframeName": "_sqldf",
        "executionCount": 63
       },
       "overflow": false,
       "plotOptions": {
        "customPlotOptions": {},
        "displayType": "table",
        "pivotAggregation": null,
        "pivotColumns": null,
        "xColumns": null,
        "yColumns": null
       },
       "removedWidgets": [],
       "schema": [
        {
         "metadata": "{}",
         "name": "account_id",
         "type": "\"string\""
        },
        {
         "metadata": "{}",
         "name": "# of messages",
         "type": "\"long\""
        }
       ],
       "type": "table"
      }
     },
     "output_type": "display_data"
    }
   ],
   "source": [
    "%sql\n",
    "SELECT  \n",
    "account_id,\n",
    "count(key) `# of messages`\n",
    "FROM dota2.chat\n",
    "JOIN dota2.players\n",
    "ON dota2.chat.match_id = dota2.players.match_id\n",
    "AND dota2.chat.slot = dota2.players.player_slot\n",
    "GROUP BY account_id\n",
    "ORDER BY count(key) desc\n",
    "LIMIT 10;"
   ]
  },
  {
   "cell_type": "markdown",
   "metadata": {},
   "source": [
    "## Query the data for toxicity chat detection"
   ]
  },
  {
   "cell_type": "code",
   "execution_count": 0,
   "metadata": {
    "application/vnd.databricks.v1+cell": {
     "cellMetadata": {
      "byteLimit": 2048000,
      "rowLimit": 10000
     },
     "inputWidgets": {},
     "nuid": "81584222-9d55-4f60-9c83-566811778553",
     "showTitle": false,
     "title": ""
    }
   },
   "outputs": [
    {
     "name": "stdout",
     "output_type": "stream",
     "text": [
      "+--------+--------------------+\n",
      "|match_id|                text|\n",
      "+--------+--------------------+\n",
      "|       0|            force it|\n",
      "|       0|       space created|\n",
      "|       0|                 hah|\n",
      "|       0|              ez 500|\n",
      "|       0|            mvp ulti|\n",
      "|       0|                 bye|\n",
      "|       0|                 hah|\n",
      "|       0|                fate|\n",
      "|       0|            is cruel|\n",
      "|       0|         fuck my ass|\n",
      "|       0|ka bu tooooooooooooo|\n",
      "|       0|                 wtf|\n",
      "|       0|                 TA?|\n",
      "|       0|            u srsly?|\n",
      "|       0|            sad spec|\n",
      "|       0|   noes cape for him|\n",
      "|       0|                 wat|\n",
      "|       0|that one i cant e...|\n",
      "|       0|   why alyway hit me|\n",
      "|       0|       what did i do|\n",
      "+--------+--------------------+\n",
      "only showing top 20 rows\n",
      "\n"
     ]
    }
   ],
   "source": [
    "# SQL query to select match_id and key\n",
    "query = \"\"\"\n",
    "SELECT match_id, key\n",
    "FROM dota2.chat\n",
    "\"\"\"\n",
    "\n",
    "# Creating a new DataFrame with the result of the SQL query\n",
    "new_df = spark.sql(query)\n",
    "\n",
    "# Rename the 'key' column to 'text'\n",
    "new_df = new_df.withColumnRenamed(\"key\", \"text\")\n",
    "\n",
    "# Show the first few rows of the DataFrame with renamed column\n",
    "new_df.show()"
   ]
  },
  {
   "cell_type": "markdown",
   "metadata": {},
   "source": [
    "## Apply the NLP pipeline to our data set, predict the chat toxic classification"
   ]
  },
  {
   "cell_type": "code",
   "execution_count": 0,
   "metadata": {
    "application/vnd.databricks.v1+cell": {
     "cellMetadata": {
      "byteLimit": 2048000,
      "rowLimit": 10000
     },
     "inputWidgets": {},
     "nuid": "d8f82f66-0e56-42cf-9166-809dec193b7b",
     "showTitle": false,
     "title": ""
    }
   },
   "outputs": [],
   "source": [
    "toxic_pred = clf_pipelineModel.transform(new_df)"
   ]
  },
  {
   "cell_type": "code",
   "execution_count": 0,
   "metadata": {
    "application/vnd.databricks.v1+cell": {
     "cellMetadata": {
      "byteLimit": 2048000,
      "rowLimit": 10000
     },
     "inputWidgets": {},
     "nuid": "a289042e-ce4a-4f65-8cd6-fff4b381c410",
     "showTitle": false,
     "title": ""
    }
   },
   "outputs": [],
   "source": [
    "toxic_preds_df = toxic_pred.select('text','class.result').toPandas()"
   ]
  },
  {
   "cell_type": "code",
   "execution_count": 0,
   "metadata": {
    "application/vnd.databricks.v1+cell": {
     "cellMetadata": {
      "byteLimit": 2048000,
      "rowLimit": 10000
     },
     "inputWidgets": {},
     "nuid": "f06fc39d-bcb5-4aaf-a7ba-cdfbe07cb7ca",
     "showTitle": false,
     "title": ""
    }
   },
   "outputs": [],
   "source": [
    "import pandas as pd\n",
    "toxic_preds_df_exploded = toxic_preds_df.explode('result')\n",
    "toxic_preds_df_exploded['toxicity_label'] = toxic_preds_df_exploded['result'].apply(lambda x: 'is_toxic' if x == \"1\" else 'not_toxic')\n",
    "result_counts = toxic_preds_df_exploded['toxicity_label'].value_counts()"
   ]
  },
  {
   "cell_type": "code",
   "execution_count": 0,
   "metadata": {
    "application/vnd.databricks.v1+cell": {
     "cellMetadata": {
      "byteLimit": 2048000,
      "implicitDf": true,
      "rowLimit": 10000
     },
     "inputWidgets": {},
     "nuid": "f8fe6403-6c2c-46ef-81e2-328eaf71cea9",
     "showTitle": false,
     "title": ""
    }
   },
   "outputs": [
    {
     "data": {
      "text/html": [
       "<div>\n",
       "<style scoped>\n",
       "    .dataframe tbody tr th:only-of-type {\n",
       "        vertical-align: middle;\n",
       "    }\n",
       "\n",
       "    .dataframe tbody tr th {\n",
       "        vertical-align: top;\n",
       "    }\n",
       "\n",
       "    .dataframe thead th {\n",
       "        text-align: right;\n",
       "    }\n",
       "</style>\n",
       "<table border=\"1\" class=\"dataframe\">\n",
       "  <thead>\n",
       "    <tr style=\"text-align: right;\">\n",
       "      <th></th>\n",
       "      <th>text</th>\n",
       "      <th>result</th>\n",
       "      <th>toxicity_label</th>\n",
       "    </tr>\n",
       "  </thead>\n",
       "  <tbody>\n",
       "    <tr>\n",
       "      <th>0</th>\n",
       "      <td>force it</td>\n",
       "      <td>0</td>\n",
       "      <td>not_toxic</td>\n",
       "    </tr>\n",
       "    <tr>\n",
       "      <th>1</th>\n",
       "      <td>space created</td>\n",
       "      <td>0</td>\n",
       "      <td>not_toxic</td>\n",
       "    </tr>\n",
       "    <tr>\n",
       "      <th>2</th>\n",
       "      <td>hah</td>\n",
       "      <td>0</td>\n",
       "      <td>not_toxic</td>\n",
       "    </tr>\n",
       "    <tr>\n",
       "      <th>3</th>\n",
       "      <td>ez 500</td>\n",
       "      <td>1</td>\n",
       "      <td>is_toxic</td>\n",
       "    </tr>\n",
       "    <tr>\n",
       "      <th>4</th>\n",
       "      <td>mvp ulti</td>\n",
       "      <td>0</td>\n",
       "      <td>not_toxic</td>\n",
       "    </tr>\n",
       "    <tr>\n",
       "      <th>5</th>\n",
       "      <td>bye</td>\n",
       "      <td>0</td>\n",
       "      <td>not_toxic</td>\n",
       "    </tr>\n",
       "    <tr>\n",
       "      <th>6</th>\n",
       "      <td>hah</td>\n",
       "      <td>0</td>\n",
       "      <td>not_toxic</td>\n",
       "    </tr>\n",
       "    <tr>\n",
       "      <th>7</th>\n",
       "      <td>fate</td>\n",
       "      <td>0</td>\n",
       "      <td>not_toxic</td>\n",
       "    </tr>\n",
       "    <tr>\n",
       "      <th>8</th>\n",
       "      <td>is cruel</td>\n",
       "      <td>1</td>\n",
       "      <td>is_toxic</td>\n",
       "    </tr>\n",
       "    <tr>\n",
       "      <th>9</th>\n",
       "      <td>fuck my ass</td>\n",
       "      <td>1</td>\n",
       "      <td>is_toxic</td>\n",
       "    </tr>\n",
       "  </tbody>\n",
       "</table>\n",
       "</div>"
      ],
      "text/plain": [
       "            text result toxicity_label\n",
       "0       force it      0      not_toxic\n",
       "1  space created      0      not_toxic\n",
       "2            hah      0      not_toxic\n",
       "3         ez 500      1       is_toxic\n",
       "4       mvp ulti      0      not_toxic\n",
       "5            bye      0      not_toxic\n",
       "6            hah      0      not_toxic\n",
       "7           fate      0      not_toxic\n",
       "8       is cruel      1       is_toxic\n",
       "9    fuck my ass      1       is_toxic"
      ]
     },
     "execution_count": 83,
     "metadata": {},
     "output_type": "execute_result"
    }
   ],
   "source": [
    "toxic_preds_df_exploded.head(10)"
   ]
  },
  {
   "cell_type": "code",
   "execution_count": 0,
   "metadata": {
    "application/vnd.databricks.v1+cell": {
     "cellMetadata": {
      "byteLimit": 2048000,
      "rowLimit": 10000
     },
     "inputWidgets": {},
     "nuid": "64b6a321-bc42-49d3-996f-f115bcff41ae",
     "showTitle": false,
     "title": ""
    }
   },
   "outputs": [
    {
     "data": {
      "text/plain": [
       "is_toxic     928653\n",
       "not_toxic    510835\n",
       "Name: toxicity_label, dtype: int64"
      ]
     },
     "execution_count": 90,
     "metadata": {},
     "output_type": "execute_result"
    }
   ],
   "source": [
    "result_counts"
   ]
  },
  {
   "cell_type": "code",
   "execution_count": 0,
   "metadata": {
    "application/vnd.databricks.v1+cell": {
     "cellMetadata": {
      "byteLimit": 2048000,
      "rowLimit": 10000
     },
     "inputWidgets": {},
     "nuid": "e179c60f-c8e7-4ea0-b49c-6146e990bb8f",
     "showTitle": false,
     "title": ""
    }
   },
   "outputs": [
    {
     "data": {
      "image/png": "[encoded data removed]",
      "text/plain": [
       "<Figure size 800x600 with 1 Axes>"
      ]
     },
     "metadata": {},
     "output_type": "display_data"
    },
    {
     "data": {
      "text/plain": [
       "<Figure size 640x480 with 1 Axes>"
      ]
     },
     "metadata": {},
     "output_type": "display_data"
    }
   ],
   "source": [
    "import matplotlib.pyplot as plt\n",
    "\n",
    "plt.figure(figsize=(8, 6)) \n",
    "bars = result_counts.plot(kind='bar', color=['pink', 'grey'])\n",
    "plt.xlabel('Label')\n",
    "plt.ylabel('Count')\n",
    "plt.xticks(rotation=0) \n",
    "plt.show()"
   ]
  }
 ],
 "metadata": {
  "application/vnd.databricks.v1+notebook": {
   "dashboards": [],
   "language": "python",
   "notebookMetadata": {
    "mostRecentlyExecutedCommandWithImplicitDF": {
     "commandId": -1,
     "dataframes": [
      "_sqldf"
     ]
    },
    "pythonIndentUnit": 2
   },
   "notebookName": "Explore msba_6331_group13.default.chat",
   "widgets": {}
  },
  "kernelspec": {
   "display_name": "Python 3 (ipykernel)",
   "language": "python",
   "name": "python3"
  },
  "language_info": {
   "codemirror_mode": {
    "name": "ipython",
    "version": 3
   },
   "file_extension": ".py",
   "mimetype": "text/x-python",
   "name": "python",
   "nbconvert_exporter": "python",
   "pygments_lexer": "ipython3",
   "version": "3.10.12"
  }
 },
 "nbformat": 4,
 "nbformat_minor": 1
}
